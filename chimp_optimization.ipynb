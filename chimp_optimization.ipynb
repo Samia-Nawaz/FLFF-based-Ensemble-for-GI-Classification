{
 "cells": [
  {
   "cell_type": "code",
   "execution_count": null,
   "id": "cb3ee732",
   "metadata": {},
   "outputs": [],
   "source": [
    "import numpy as np\n",
    "import tensorflow as tf\n",
    "from ensemble_model import ensemble_model\n",
    "\n",
    "# Define Chimp Optimization Algorithm\n",
    "class ChimpOptimization:\n",
    "    def __init__(self, population_size=10, max_iter=50, dim=5, lower_bound=0.0001, upper_bound=0.1):\n",
    "        self.population_size = population_size\n",
    "        self.max_iter = max_iter\n",
    "        self.dim = dim\n",
    "        self.lower_bound = lower_bound\n",
    "        self.upper_bound = upper_bound\n",
    "        self.population = np.random.uniform(lower_bound, upper_bound, (population_size, dim))\n",
    "\n",
    "    def fitness(self, params):\n",
    "        learning_rate, batch_size, dropout, momentum, decay = params\n",
    "        \n",
    "        # Compile model with given parameters\n",
    "        model = ensemble_model\n",
    "        model.compile(optimizer=tf.keras.optimizers.Adam(learning_rate=learning_rate),\n",
    "                      loss='binary_crossentropy', metrics=['accuracy'])\n",
    "        \n",
    "        # Train model on a subset of data for quick evaluation\n",
    "        model.fit(X_train[:500], y_train[:500], batch_size=int(batch_size), epochs=2, verbose=0)\n",
    "        _, accuracy = model.evaluate(X_test[:100], y_test[:100], verbose=0)\n",
    "        return 1 - accuracy  # Minimize error\n",
    "\n",
    "    def optimize(self):\n",
    "        best_solution = None\n",
    "        best_score = float('inf')\n",
    "\n",
    "        for _ in range(self.max_iter):\n",
    "            for chimp in range(self.population_size):\n",
    "                candidate = self.population[chimp]\n",
    "                score = self.fitness(candidate)\n",
    "                if score < best_score:\n",
    "                    best_score = score\n",
    "                    best_solution = candidate\n",
    "\n",
    "        return best_solution, 1 - best_score  # Return best parameters and accuracy\n",
    "\n",
    "if __name__ == \"__main__\":\n",
    "    optimizer = ChimpOptimization()\n",
    "    best_params, best_accuracy = optimizer.optimize()\n",
    "    print(f\"Best Hyperparameters: {best_params}, Best Accuracy: {best_accuracy}\")\n"
   ]
  }
 ],
 "metadata": {
  "kernelspec": {
   "display_name": "Python 3 (ipykernel)",
   "language": "python",
   "name": "python3"
  },
  "language_info": {
   "codemirror_mode": {
    "name": "ipython",
    "version": 3
   },
   "file_extension": ".py",
   "mimetype": "text/x-python",
   "name": "python",
   "nbconvert_exporter": "python",
   "pygments_lexer": "ipython3",
   "version": "3.11.5"
  }
 },
 "nbformat": 4,
 "nbformat_minor": 5
}
