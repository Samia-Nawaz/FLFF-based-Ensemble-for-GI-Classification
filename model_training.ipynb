{
 "cells": [
  {
   "cell_type": "code",
   "execution_count": null,
   "id": "55bea9aa",
   "metadata": {},
   "outputs": [],
   "source": [
    "import tensorflow as tf\n",
    "import numpy as np\n",
    "from ensemble_model import ensemble_model\n",
    "from chimp_optimization import ChimpOptimization\n",
    "\n",
    "# Load preprocessed dataset\n",
    "X_train = np.load(\"processed_dataset/X_train.npy\")\n",
    "y_train = np.load(\"processed_dataset/y_train.npy\")\n",
    "X_test = np.load(\"processed_dataset/X_test.npy\")\n",
    "y_test = np.load(\"processed_dataset/y_test.npy\")\n",
    "\n",
    "# Get optimized hyperparameters\n",
    "optimizer = ChimpOptimization()\n",
    "best_params, best_accuracy = optimizer.optimize()\n",
    "learning_rate, batch_size, dropout, momentum, decay = best_params\n",
    "\n",
    "# Compile and train the model\n",
    "ensemble_model.compile(optimizer=tf.keras.optimizers.Adam(learning_rate=learning_rate),\n",
    "                      loss='binary_crossentropy', metrics=['accuracy'])\n",
    "\n",
    "ensemble_model.fit(X_train, y_train, batch_size=int(batch_size), epochs=10, validation_data=(X_test, y_test))\n",
    "\n",
    "# Evaluate model\n",
    "loss, accuracy = ensemble_model.evaluate(X_test, y_test)\n",
    "print(f\"Final Model Accuracy: {accuracy}\")\n"
   ]
  }
 ],
 "metadata": {
  "kernelspec": {
   "display_name": "Python 3 (ipykernel)",
   "language": "python",
   "name": "python3"
  },
  "language_info": {
   "codemirror_mode": {
    "name": "ipython",
    "version": 3
   },
   "file_extension": ".py",
   "mimetype": "text/x-python",
   "name": "python",
   "nbconvert_exporter": "python",
   "pygments_lexer": "ipython3",
   "version": "3.11.5"
  }
 },
 "nbformat": 4,
 "nbformat_minor": 5
}
