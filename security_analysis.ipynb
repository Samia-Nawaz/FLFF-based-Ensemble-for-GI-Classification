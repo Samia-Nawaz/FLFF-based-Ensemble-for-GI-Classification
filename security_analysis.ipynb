{
 "cells": [
  {
   "cell_type": "code",
   "execution_count": null,
   "id": "9fd4ae68",
   "metadata": {},
   "outputs": [],
   "source": [
    "import cv2\n",
    "import numpy as np\n",
    "import time\n",
    "from image_encryption import encrypt_image, decrypt_image\n",
    "\n",
    "# Performance Analysis Function\n",
    "def measure_performance(image_path):\n",
    "    start_encrypt = time.time()\n",
    "    encrypt_image(image_path, \"encrypted_image.jpg\")\n",
    "    end_encrypt = time.time()\n",
    "    \n",
    "    start_decrypt = time.time()\n",
    "    decrypt_image(\"encrypted_image.jpg\", \"decrypted_image.jpg\")\n",
    "    end_decrypt = time.time()\n",
    "    \n",
    "    encryption_time = end_encrypt - start_encrypt\n",
    "    decryption_time = end_decrypt - start_decrypt\n",
    "    \n",
    "    print(f\"Encryption Time: {encryption_time:.4f} seconds\")\n",
    "    print(f\"Decryption Time: {decryption_time:.4f} seconds\")\n",
    "    \n",
    "    return encryption_time, decryption_time\n",
    "\n",
    "# Run performance test\n",
    "if __name__ == \"__main__\":\n",
    "    image_path = \"sample_image.jpg\"\n",
    "    measure_performance(image_path)\n"
   ]
  }
 ],
 "metadata": {
  "kernelspec": {
   "display_name": "Python 3 (ipykernel)",
   "language": "python",
   "name": "python3"
  },
  "language_info": {
   "codemirror_mode": {
    "name": "ipython",
    "version": 3
   },
   "file_extension": ".py",
   "mimetype": "text/x-python",
   "name": "python",
   "nbconvert_exporter": "python",
   "pygments_lexer": "ipython3",
   "version": "3.11.5"
  }
 },
 "nbformat": 4,
 "nbformat_minor": 5
}
