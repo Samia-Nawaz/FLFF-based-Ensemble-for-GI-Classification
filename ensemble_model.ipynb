{
 "cells": [
  {
   "cell_type": "code",
   "execution_count": null,
   "id": "22dc0972",
   "metadata": {},
   "outputs": [],
   "source": [
    "import tensorflow as tf\n",
    "from tensorflow.keras.layers import Input, Dense, Concatenate\n",
    "from tensorflow.keras.models import Model\n",
    "from feature_extraction import build_vae, build_dcae, build_abigru\n",
    "\n",
    "# Load feature extraction models\n",
    "vae = build_vae()\n",
    "dcae = build_dcae()\n",
    "abigru = build_abigru()\n",
    "\n",
    "# Define ensemble model\n",
    "input_vae = Input(shape=(224, 224, 3))\n",
    "input_dcae = Input(shape=(224, 224, 3))\n",
    "input_abigru = Input(shape=(224, 224))\n",
    "\n",
    "vae_features = vae(input_vae)\n",
    "dcae_features = dcae(input_dcae)\n",
    "abigru_features = abigru(input_abigru)\n",
    "\n",
    "merged = Concatenate()([vae_features, dcae_features, abigru_features])\n",
    "final_output = Dense(1, activation='sigmoid')(merged)\n",
    "\n",
    "ensemble_model = Model(inputs=[input_vae, input_dcae, input_abigru], outputs=final_output)\n",
    "ensemble_model.compile(optimizer='adam', loss='binary_crossentropy', metrics=['accuracy'])\n",
    "\n",
    "if __name__ == \"__main__\":\n",
    "    ensemble_model.summary()\n"
   ]
  }
 ],
 "metadata": {
  "kernelspec": {
   "display_name": "Python 3 (ipykernel)",
   "language": "python",
   "name": "python3"
  },
  "language_info": {
   "codemirror_mode": {
    "name": "ipython",
    "version": 3
   },
   "file_extension": ".py",
   "mimetype": "text/x-python",
   "name": "python",
   "nbconvert_exporter": "python",
   "pygments_lexer": "ipython3",
   "version": "3.11.5"
  }
 },
 "nbformat": 4,
 "nbformat_minor": 5
}
