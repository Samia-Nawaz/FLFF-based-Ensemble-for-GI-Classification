{
 "cells": [
  {
   "cell_type": "code",
   "execution_count": null,
   "id": "cb46d017",
   "metadata": {},
   "outputs": [],
   "source": [
    "import flwr as fl\n",
    "import tensorflow as tf\n",
    "import numpy as np\n",
    "import os\n",
    "\n",
    "# Load preprocessed data\n",
    "X_train = np.load(\"processed_dataset/X_train.npy\")\n",
    "y_train = np.load(\"processed_dataset/y_train.npy\")\n",
    "X_test = np.load(\"processed_dataset/X_test.npy\")\n",
    "y_test = np.load(\"processed_dataset/y_test.npy\")\n",
    "\n",
    "# Build a simple CNN model\n",
    "def create_model():\n",
    "    model = tf.keras.models.Sequential([\n",
    "        tf.keras.layers.Conv2D(32, (3,3), activation='relu', input_shape=(224,224,3)),\n",
    "        tf.keras.layers.MaxPooling2D(2,2),\n",
    "        tf.keras.layers.Conv2D(64, (3,3), activation='relu'),\n",
    "        tf.keras.layers.MaxPooling2D(2,2),\n",
    "        tf.keras.layers.Flatten(),\n",
    "        tf.keras.layers.Dense(128, activation='relu'),\n",
    "        tf.keras.layers.Dense(len(set(y_train)), activation='softmax')\n",
    "    ])\n",
    "    \n",
    "    model.compile(optimizer='adam', loss='sparse_categorical_crossentropy', metrics=['accuracy'])\n",
    "    return model\n",
    "\n",
    "# Federated Learning client\n",
    "class FLClient(fl.client.NumPyClient):\n",
    "    def __init__(self):\n",
    "        self.model = create_model()\n",
    "    \n",
    "    def get_parameters(self):\n",
    "        return self.model.get_weights()\n",
    "    \n",
    "    def fit(self, parameters, config):\n",
    "        self.model.set_weights(parameters)\n",
    "        self.model.fit(X_train, y_train, epochs=1, batch_size=32, verbose=0)\n",
    "        return self.model.get_weights(), len(X_train), {}\n",
    "    \n",
    "    def evaluate(self, parameters, config):\n",
    "        self.model.set_weights(parameters)\n",
    "        loss, accuracy = self.model.evaluate(X_test, y_test, verbose=0)\n",
    "        return loss, len(X_test), {\"accuracy\": accuracy}\n",
    "\n",
    "# Start FL client\n",
    "if __name__ == \"__main__\":\n",
    "    fl.client.start_numpy_client(server_address=\"127.0.0.1:8080\", client=FLClient())\n"
   ]
  }
 ],
 "metadata": {
  "kernelspec": {
   "display_name": "Python 3 (ipykernel)",
   "language": "python",
   "name": "python3"
  },
  "language_info": {
   "codemirror_mode": {
    "name": "ipython",
    "version": 3
   },
   "file_extension": ".py",
   "mimetype": "text/x-python",
   "name": "python",
   "nbconvert_exporter": "python",
   "pygments_lexer": "ipython3",
   "version": "3.11.5"
  }
 },
 "nbformat": 4,
 "nbformat_minor": 5
}
