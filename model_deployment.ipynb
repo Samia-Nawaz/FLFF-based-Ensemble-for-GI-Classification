{
 "cells": [
  {
   "cell_type": "code",
   "execution_count": null,
   "id": "a432c65a",
   "metadata": {},
   "outputs": [],
   "source": [
    "import tensorflow as tf\n",
    "import os\n",
    "from model_training import ensemble_model\n",
    "\n",
    "# Save the model in TensorFlow Lite format\n",
    "def convert_to_tflite():\n",
    "    converter = tf.lite.TFLiteConverter.from_keras_model(ensemble_model)\n",
    "    tflite_model = converter.convert()\n",
    "    \n",
    "    # Save the converted model\n",
    "    with open(\"ensemble_model.tflite\", \"wb\") as f:\n",
    "        f.write(tflite_model)\n",
    "    print(\"Model converted and saved as ensemble_model.tflite\")\n",
    "\n",
    "if __name__ == \"__main__\":\n",
    "    convert_to_tflite()\n"
   ]
  }
 ],
 "metadata": {
  "kernelspec": {
   "display_name": "Python 3 (ipykernel)",
   "language": "python",
   "name": "python3"
  },
  "language_info": {
   "codemirror_mode": {
    "name": "ipython",
    "version": 3
   },
   "file_extension": ".py",
   "mimetype": "text/x-python",
   "name": "python",
   "nbconvert_exporter": "python",
   "pygments_lexer": "ipython3",
   "version": "3.11.5"
  }
 },
 "nbformat": 4,
 "nbformat_minor": 5
}
